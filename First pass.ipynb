{
 "cells": [
  {
   "cell_type": "code",
   "execution_count": 203,
   "metadata": {},
   "outputs": [],
   "source": [
    "import numpy as np\n",
    "import pandas as pd\n",
    "import matplotlib.pyplot as plt\n",
    "import seaborn as sns\n",
    "import xgboost as xgb\n",
    "% matplotlib inline\n",
    "from sklearn.linear_model import LogisticRegression\n",
    "from sklearn.naive_bayes import GaussianNB\n",
    "from sklearn.svm import SVC\n",
    "from sklearn.model_selection import cross_val_score\n",
    "from sklearn.ensemble import RandomForestClassifier\n",
    "import graphviz"
   ]
  },
  {
   "cell_type": "code",
   "execution_count": 191,
   "metadata": {},
   "outputs": [],
   "source": [
    "# import data\n",
    "train = pd.read_csv('training.csv')\n",
    "test = pd.read_csv('test.csv')"
   ]
  },
  {
   "cell_type": "code",
   "execution_count": 90,
   "metadata": {},
   "outputs": [
    {
     "name": "stdout",
     "output_type": "stream",
     "text": [
      "training data contains 72983 and test data 48707\n",
      "there are 34 columns\n",
      "there are 12.298754504473644 percent kicks\n"
     ]
    }
   ],
   "source": [
    "print('training data contains', len(train), 'and test data', len(test))\n",
    "print('there are', len(train.columns), 'columns')\n",
    "print('there are', len(train[train['IsBadBuy']==1])/len(train)*100, 'percent kicks')"
   ]
  },
  {
   "cell_type": "markdown",
   "metadata": {},
   "source": [
    "# Data Exploration and Cleaning"
   ]
  },
  {
   "cell_type": "code",
   "execution_count": 130,
   "metadata": {},
   "outputs": [
    {
     "data": {
      "text/html": [
       "<div>\n",
       "<style scoped>\n",
       "    .dataframe tbody tr th:only-of-type {\n",
       "        vertical-align: middle;\n",
       "    }\n",
       "\n",
       "    .dataframe tbody tr th {\n",
       "        vertical-align: top;\n",
       "    }\n",
       "\n",
       "    .dataframe thead th {\n",
       "        text-align: right;\n",
       "    }\n",
       "</style>\n",
       "<table border=\"1\" class=\"dataframe\">\n",
       "  <thead>\n",
       "    <tr style=\"text-align: right;\">\n",
       "      <th></th>\n",
       "      <th>0</th>\n",
       "      <th>1</th>\n",
       "      <th>2</th>\n",
       "      <th>3</th>\n",
       "      <th>4</th>\n",
       "    </tr>\n",
       "  </thead>\n",
       "  <tbody>\n",
       "    <tr>\n",
       "      <th>RefId</th>\n",
       "      <td>1</td>\n",
       "      <td>2</td>\n",
       "      <td>3</td>\n",
       "      <td>4</td>\n",
       "      <td>5</td>\n",
       "    </tr>\n",
       "    <tr>\n",
       "      <th>IsBadBuy</th>\n",
       "      <td>0</td>\n",
       "      <td>0</td>\n",
       "      <td>0</td>\n",
       "      <td>0</td>\n",
       "      <td>0</td>\n",
       "    </tr>\n",
       "    <tr>\n",
       "      <th>PurchDate</th>\n",
       "      <td>12/7/2009</td>\n",
       "      <td>12/7/2009</td>\n",
       "      <td>12/7/2009</td>\n",
       "      <td>12/7/2009</td>\n",
       "      <td>12/7/2009</td>\n",
       "    </tr>\n",
       "    <tr>\n",
       "      <th>Auction</th>\n",
       "      <td>ADESA</td>\n",
       "      <td>ADESA</td>\n",
       "      <td>ADESA</td>\n",
       "      <td>ADESA</td>\n",
       "      <td>ADESA</td>\n",
       "    </tr>\n",
       "    <tr>\n",
       "      <th>VehYear</th>\n",
       "      <td>2006</td>\n",
       "      <td>2004</td>\n",
       "      <td>2005</td>\n",
       "      <td>2004</td>\n",
       "      <td>2005</td>\n",
       "    </tr>\n",
       "    <tr>\n",
       "      <th>VehicleAge</th>\n",
       "      <td>3</td>\n",
       "      <td>5</td>\n",
       "      <td>4</td>\n",
       "      <td>5</td>\n",
       "      <td>4</td>\n",
       "    </tr>\n",
       "    <tr>\n",
       "      <th>Make</th>\n",
       "      <td>MAZDA</td>\n",
       "      <td>DODGE</td>\n",
       "      <td>DODGE</td>\n",
       "      <td>DODGE</td>\n",
       "      <td>FORD</td>\n",
       "    </tr>\n",
       "    <tr>\n",
       "      <th>Model</th>\n",
       "      <td>MAZDA3</td>\n",
       "      <td>1500 RAM PICKUP 2WD</td>\n",
       "      <td>STRATUS V6</td>\n",
       "      <td>NEON</td>\n",
       "      <td>FOCUS</td>\n",
       "    </tr>\n",
       "    <tr>\n",
       "      <th>Trim</th>\n",
       "      <td>i</td>\n",
       "      <td>ST</td>\n",
       "      <td>SXT</td>\n",
       "      <td>SXT</td>\n",
       "      <td>ZX3</td>\n",
       "    </tr>\n",
       "    <tr>\n",
       "      <th>SubModel</th>\n",
       "      <td>4D SEDAN I</td>\n",
       "      <td>QUAD CAB 4.7L SLT</td>\n",
       "      <td>4D SEDAN SXT FFV</td>\n",
       "      <td>4D SEDAN</td>\n",
       "      <td>2D COUPE ZX3</td>\n",
       "    </tr>\n",
       "    <tr>\n",
       "      <th>Color</th>\n",
       "      <td>RED</td>\n",
       "      <td>WHITE</td>\n",
       "      <td>MAROON</td>\n",
       "      <td>SILVER</td>\n",
       "      <td>SILVER</td>\n",
       "    </tr>\n",
       "    <tr>\n",
       "      <th>Transmission</th>\n",
       "      <td>AUTO</td>\n",
       "      <td>AUTO</td>\n",
       "      <td>AUTO</td>\n",
       "      <td>AUTO</td>\n",
       "      <td>MANUAL</td>\n",
       "    </tr>\n",
       "    <tr>\n",
       "      <th>WheelTypeID</th>\n",
       "      <td>1</td>\n",
       "      <td>1</td>\n",
       "      <td>2</td>\n",
       "      <td>1</td>\n",
       "      <td>2</td>\n",
       "    </tr>\n",
       "    <tr>\n",
       "      <th>WheelType</th>\n",
       "      <td>Alloy</td>\n",
       "      <td>Alloy</td>\n",
       "      <td>Covers</td>\n",
       "      <td>Alloy</td>\n",
       "      <td>Covers</td>\n",
       "    </tr>\n",
       "    <tr>\n",
       "      <th>VehOdo</th>\n",
       "      <td>89046</td>\n",
       "      <td>93593</td>\n",
       "      <td>73807</td>\n",
       "      <td>65617</td>\n",
       "      <td>69367</td>\n",
       "    </tr>\n",
       "    <tr>\n",
       "      <th>Nationality</th>\n",
       "      <td>OTHER ASIAN</td>\n",
       "      <td>AMERICAN</td>\n",
       "      <td>AMERICAN</td>\n",
       "      <td>AMERICAN</td>\n",
       "      <td>AMERICAN</td>\n",
       "    </tr>\n",
       "    <tr>\n",
       "      <th>Size</th>\n",
       "      <td>MEDIUM</td>\n",
       "      <td>LARGE TRUCK</td>\n",
       "      <td>MEDIUM</td>\n",
       "      <td>COMPACT</td>\n",
       "      <td>COMPACT</td>\n",
       "    </tr>\n",
       "    <tr>\n",
       "      <th>TopThreeAmericanName</th>\n",
       "      <td>OTHER</td>\n",
       "      <td>CHRYSLER</td>\n",
       "      <td>CHRYSLER</td>\n",
       "      <td>CHRYSLER</td>\n",
       "      <td>FORD</td>\n",
       "    </tr>\n",
       "    <tr>\n",
       "      <th>MMRAcquisitionAuctionAveragePrice</th>\n",
       "      <td>8155</td>\n",
       "      <td>6854</td>\n",
       "      <td>3202</td>\n",
       "      <td>1893</td>\n",
       "      <td>3913</td>\n",
       "    </tr>\n",
       "    <tr>\n",
       "      <th>MMRAcquisitionAuctionCleanPrice</th>\n",
       "      <td>9829</td>\n",
       "      <td>8383</td>\n",
       "      <td>4760</td>\n",
       "      <td>2675</td>\n",
       "      <td>5054</td>\n",
       "    </tr>\n",
       "    <tr>\n",
       "      <th>MMRAcquisitionRetailAveragePrice</th>\n",
       "      <td>11636</td>\n",
       "      <td>10897</td>\n",
       "      <td>6943</td>\n",
       "      <td>4658</td>\n",
       "      <td>7723</td>\n",
       "    </tr>\n",
       "    <tr>\n",
       "      <th>MMRAcquisitonRetailCleanPrice</th>\n",
       "      <td>13600</td>\n",
       "      <td>12572</td>\n",
       "      <td>8457</td>\n",
       "      <td>5690</td>\n",
       "      <td>8707</td>\n",
       "    </tr>\n",
       "    <tr>\n",
       "      <th>MMRCurrentAuctionAveragePrice</th>\n",
       "      <td>7451</td>\n",
       "      <td>7456</td>\n",
       "      <td>4035</td>\n",
       "      <td>1844</td>\n",
       "      <td>3247</td>\n",
       "    </tr>\n",
       "    <tr>\n",
       "      <th>MMRCurrentAuctionCleanPrice</th>\n",
       "      <td>8552</td>\n",
       "      <td>9222</td>\n",
       "      <td>5557</td>\n",
       "      <td>2646</td>\n",
       "      <td>4384</td>\n",
       "    </tr>\n",
       "    <tr>\n",
       "      <th>MMRCurrentRetailAveragePrice</th>\n",
       "      <td>11597</td>\n",
       "      <td>11374</td>\n",
       "      <td>7146</td>\n",
       "      <td>4375</td>\n",
       "      <td>6739</td>\n",
       "    </tr>\n",
       "    <tr>\n",
       "      <th>MMRCurrentRetailCleanPrice</th>\n",
       "      <td>12409</td>\n",
       "      <td>12791</td>\n",
       "      <td>8702</td>\n",
       "      <td>5518</td>\n",
       "      <td>7911</td>\n",
       "    </tr>\n",
       "    <tr>\n",
       "      <th>PRIMEUNIT</th>\n",
       "      <td>NaN</td>\n",
       "      <td>NaN</td>\n",
       "      <td>NaN</td>\n",
       "      <td>NaN</td>\n",
       "      <td>NaN</td>\n",
       "    </tr>\n",
       "    <tr>\n",
       "      <th>AUCGUART</th>\n",
       "      <td>NaN</td>\n",
       "      <td>NaN</td>\n",
       "      <td>NaN</td>\n",
       "      <td>NaN</td>\n",
       "      <td>NaN</td>\n",
       "    </tr>\n",
       "    <tr>\n",
       "      <th>BYRNO</th>\n",
       "      <td>21973</td>\n",
       "      <td>19638</td>\n",
       "      <td>19638</td>\n",
       "      <td>19638</td>\n",
       "      <td>19638</td>\n",
       "    </tr>\n",
       "    <tr>\n",
       "      <th>VNZIP1</th>\n",
       "      <td>33619</td>\n",
       "      <td>33619</td>\n",
       "      <td>33619</td>\n",
       "      <td>33619</td>\n",
       "      <td>33619</td>\n",
       "    </tr>\n",
       "    <tr>\n",
       "      <th>VNST</th>\n",
       "      <td>FL</td>\n",
       "      <td>FL</td>\n",
       "      <td>FL</td>\n",
       "      <td>FL</td>\n",
       "      <td>FL</td>\n",
       "    </tr>\n",
       "    <tr>\n",
       "      <th>VehBCost</th>\n",
       "      <td>7100</td>\n",
       "      <td>7600</td>\n",
       "      <td>4900</td>\n",
       "      <td>4100</td>\n",
       "      <td>4000</td>\n",
       "    </tr>\n",
       "    <tr>\n",
       "      <th>IsOnlineSale</th>\n",
       "      <td>0</td>\n",
       "      <td>0</td>\n",
       "      <td>0</td>\n",
       "      <td>0</td>\n",
       "      <td>0</td>\n",
       "    </tr>\n",
       "    <tr>\n",
       "      <th>WarrantyCost</th>\n",
       "      <td>1113</td>\n",
       "      <td>1053</td>\n",
       "      <td>1389</td>\n",
       "      <td>630</td>\n",
       "      <td>1020</td>\n",
       "    </tr>\n",
       "  </tbody>\n",
       "</table>\n",
       "</div>"
      ],
      "text/plain": [
       "                                             0                    1  \\\n",
       "RefId                                        1                    2   \n",
       "IsBadBuy                                     0                    0   \n",
       "PurchDate                            12/7/2009            12/7/2009   \n",
       "Auction                                  ADESA                ADESA   \n",
       "VehYear                                   2006                 2004   \n",
       "VehicleAge                                   3                    5   \n",
       "Make                                     MAZDA                DODGE   \n",
       "Model                                   MAZDA3  1500 RAM PICKUP 2WD   \n",
       "Trim                                         i                   ST   \n",
       "SubModel                            4D SEDAN I    QUAD CAB 4.7L SLT   \n",
       "Color                                      RED                WHITE   \n",
       "Transmission                              AUTO                 AUTO   \n",
       "WheelTypeID                                  1                    1   \n",
       "WheelType                                Alloy                Alloy   \n",
       "VehOdo                                   89046                93593   \n",
       "Nationality                        OTHER ASIAN             AMERICAN   \n",
       "Size                                    MEDIUM          LARGE TRUCK   \n",
       "TopThreeAmericanName                     OTHER             CHRYSLER   \n",
       "MMRAcquisitionAuctionAveragePrice         8155                 6854   \n",
       "MMRAcquisitionAuctionCleanPrice           9829                 8383   \n",
       "MMRAcquisitionRetailAveragePrice         11636                10897   \n",
       "MMRAcquisitonRetailCleanPrice            13600                12572   \n",
       "MMRCurrentAuctionAveragePrice             7451                 7456   \n",
       "MMRCurrentAuctionCleanPrice               8552                 9222   \n",
       "MMRCurrentRetailAveragePrice             11597                11374   \n",
       "MMRCurrentRetailCleanPrice               12409                12791   \n",
       "PRIMEUNIT                                  NaN                  NaN   \n",
       "AUCGUART                                   NaN                  NaN   \n",
       "BYRNO                                    21973                19638   \n",
       "VNZIP1                                   33619                33619   \n",
       "VNST                                        FL                   FL   \n",
       "VehBCost                                  7100                 7600   \n",
       "IsOnlineSale                                 0                    0   \n",
       "WarrantyCost                              1113                 1053   \n",
       "\n",
       "                                                  2          3             4  \n",
       "RefId                                             3          4             5  \n",
       "IsBadBuy                                          0          0             0  \n",
       "PurchDate                                 12/7/2009  12/7/2009     12/7/2009  \n",
       "Auction                                       ADESA      ADESA         ADESA  \n",
       "VehYear                                        2005       2004          2005  \n",
       "VehicleAge                                        4          5             4  \n",
       "Make                                          DODGE      DODGE          FORD  \n",
       "Model                                    STRATUS V6       NEON         FOCUS  \n",
       "Trim                                            SXT        SXT           ZX3  \n",
       "SubModel                           4D SEDAN SXT FFV   4D SEDAN  2D COUPE ZX3  \n",
       "Color                                        MAROON     SILVER        SILVER  \n",
       "Transmission                                   AUTO       AUTO        MANUAL  \n",
       "WheelTypeID                                       2          1             2  \n",
       "WheelType                                    Covers      Alloy        Covers  \n",
       "VehOdo                                        73807      65617         69367  \n",
       "Nationality                                AMERICAN   AMERICAN      AMERICAN  \n",
       "Size                                         MEDIUM    COMPACT       COMPACT  \n",
       "TopThreeAmericanName                       CHRYSLER   CHRYSLER          FORD  \n",
       "MMRAcquisitionAuctionAveragePrice              3202       1893          3913  \n",
       "MMRAcquisitionAuctionCleanPrice                4760       2675          5054  \n",
       "MMRAcquisitionRetailAveragePrice               6943       4658          7723  \n",
       "MMRAcquisitonRetailCleanPrice                  8457       5690          8707  \n",
       "MMRCurrentAuctionAveragePrice                  4035       1844          3247  \n",
       "MMRCurrentAuctionCleanPrice                    5557       2646          4384  \n",
       "MMRCurrentRetailAveragePrice                   7146       4375          6739  \n",
       "MMRCurrentRetailCleanPrice                     8702       5518          7911  \n",
       "PRIMEUNIT                                       NaN        NaN           NaN  \n",
       "AUCGUART                                        NaN        NaN           NaN  \n",
       "BYRNO                                         19638      19638         19638  \n",
       "VNZIP1                                        33619      33619         33619  \n",
       "VNST                                             FL         FL            FL  \n",
       "VehBCost                                       4900       4100          4000  \n",
       "IsOnlineSale                                      0          0             0  \n",
       "WarrantyCost                                   1389        630          1020  "
      ]
     },
     "execution_count": 130,
     "metadata": {},
     "output_type": "execute_result"
    }
   ],
   "source": [
    "train.head().transpose()"
   ]
  },
  {
   "cell_type": "code",
   "execution_count": 214,
   "metadata": {},
   "outputs": [
    {
     "name": "stdout",
     "output_type": "stream",
     "text": [
      "datetime64[ns]\n"
     ]
    }
   ],
   "source": [
    "# convert date\n",
    "train['PurchDate'] = pd.to_datetime(train['PurchDate'])\n",
    "test['PurchDate'] = pd.to_datetime(test['PurchDate'])\n",
    "print(train['PurchDate'].dtype)\n",
    "\n",
    "# fix var name\n",
    "train.rename(columns={'MMRAcquisitonRetailCleanPrice': 'MMRAcquisitionRetailCleanPrice'}, inplace=True)\n",
    "test.rename(columns={'MMRAcquisitonRetailCleanPrice': 'MMRAcquisitionRetailCleanPrice'}, inplace=True)"
   ]
  },
  {
   "cell_type": "code",
   "execution_count": 215,
   "metadata": {},
   "outputs": [],
   "source": [
    "# convert categorical columns\n",
    "cate_cols = ['Auction', 'Make', 'Model', 'Trim', 'SubModel', 'Transmission', 'WheelTypeID', 'WheelType', 'Nationality', 'Size', 'TopThreeAmericanName', 'PRIMEUNIT', 'AUCGUART']\n",
    "for col in cate_cols:\n",
    "    train[col] = train[col].astype('category')\n",
    "    test[col] = test[col].astype('category')\n",
    "\n",
    "cols_to_drop = ['RefId', 'Color', 'BYRNO', 'VNZIP1', 'VNST', 'VehYear']\n",
    "train.drop(cols_to_drop, axis=1, inplace=True)\n",
    "cols_to_drop.remove('RefId')\n",
    "test.drop(cols_to_drop, axis=1, inplace=True)"
   ]
  },
  {
   "cell_type": "code",
   "execution_count": 216,
   "metadata": {},
   "outputs": [],
   "source": [
    "# add relevant features\n",
    "# acquisition cost at the time of purchase - CONVERT to percentages to cost at time of purchase\n",
    "cols_to_convert = ['MMRAcquisitionAuctionAveragePrice', 'MMRAcquisitionAuctionCleanPrice', \\\n",
    "                     'MMRAcquisitionRetailAveragePrice', 'MMRAcquisitionRetailCleanPrice']\n",
    "for col in cols_to_convert:\n",
    "    train[col+'_diff'] = train[col] / train['VehBCost'] - 1\n",
    "    test[col+'_diff'] = test[col] / test['VehBCost'] - 1"
   ]
  },
  {
   "cell_type": "code",
   "execution_count": 217,
   "metadata": {},
   "outputs": [],
   "source": [
    "# current day MMR prices depend on the date of auction\n",
    "# convert to depreciation percentage per year since auction date\n",
    "current_cols = ['MMRCurrentAuctionAveragePrice', 'MMRCurrentAuctionCleanPrice', \\\n",
    "                'MMRCurrentRetailAveragePrice', 'MMRCurrentRetailCleanPrice']\n",
    "for col in current_cols:\n",
    "    compare_to = col.replace('Current', 'Acquisition')\n",
    "    train[col+'_DepPerYear'] = (train[compare_to] - train[col]) / train[compare_to]\n",
    "    # assume current day in 6 years ago (when data was published) - Sept 2011\n",
    "    train[col+'_DepPerYear'] /= (pd.to_datetime('09/01/2011') - train['PurchDate']).dt.days / 365\n",
    "    mean = train[train[col+'_DepPerYear'] != float('-inf')][col+'_DepPerYear'].mean()\n",
    "    train[col+'_DepPerYear'].replace(float('-inf'), mean, inplace=True)\n",
    "    \n",
    "    # apply to test\n",
    "    test[col+'_DepPerYear'] = (test[compare_to] - test[col]) / test[compare_to]\n",
    "    test[col+'_DepPerYear'] /= (pd.to_datetime('09/01/2011') - test['PurchDate']).dt.days / 365\n",
    "    mean = test[test[col+'_DepPerYear'] != float('-inf')][col+'_DepPerYear'].mean()\n",
    "    test[col+'_DepPerYear'].replace(float('-inf'), mean, inplace=True)"
   ]
  },
  {
   "cell_type": "code",
   "execution_count": 218,
   "metadata": {},
   "outputs": [
    {
     "data": {
      "text/plain": [
       "['IsOnlineSale',\n",
       " 'WarrantyCost',\n",
       " 'MMRCurrentAuctionAveragePrice_DepPerYear',\n",
       " 'MMRAcquisitionRetailCleanPrice_diff',\n",
       " 'MMRAcquisitionAuctionCleanPrice_diff',\n",
       " 'VehBCost',\n",
       " 'MMRCurrentRetailCleanPrice_DepPerYear',\n",
       " 'VehicleAge',\n",
       " 'MMRAcquisitionAuctionAveragePrice_diff',\n",
       " 'MMRCurrentRetailAveragePrice_DepPerYear',\n",
       " 'MMRAcquisitionRetailAveragePrice_diff',\n",
       " 'MMRCurrentAuctionCleanPrice_DepPerYear',\n",
       " 'IsBadBuy',\n",
       " 'VehOdo']"
      ]
     },
     "execution_count": 218,
     "metadata": {},
     "output_type": "execute_result"
    }
   ],
   "source": [
    "# remove original cols\n",
    "for col in cols_to_convert+current_cols:\n",
    "    del train[col]\n",
    "    del test[col]\n",
    "\n",
    "# remove auction date after use\n",
    "del train['PurchDate']\n",
    "del test['PurchDate']\n",
    "\n",
    "# get non categorical cols\n",
    "noncate_cols = list(set(train.columns.tolist()) - set(cate_cols))\n",
    "noncate_cols"
   ]
  },
  {
   "cell_type": "code",
   "execution_count": 219,
   "metadata": {},
   "outputs": [
    {
     "name": "stdout",
     "output_type": "stream",
     "text": [
      "Filling Trim with Bas ...\n",
      "Filling SubModel with 4D SEDAN ...\n",
      "Filling Transmission with AUTO ...\n",
      "Filling WheelTypeID with 1.0 ...\n",
      "Filling WheelType with Alloy ...\n",
      "Filling Nationality with AMERICAN ...\n",
      "Filling Size with MEDIUM ...\n",
      "Filling TopThreeAmericanName with GM ...\n",
      "Filling PRIMEUNIT with NO ...\n",
      "Filling AUCGUART with GREEN ...\n",
      "Filling MMRAcquisitionAuctionAveragePrice_diff with -0.07100732003152618 ...\n",
      "Filling MMRAcquisitionAuctionCleanPrice_diff with 0.13468529867638662 ...\n",
      "Filling MMRAcquisitionRetailAveragePrice_diff with 0.29843173050521127 ...\n",
      "Filling MMRAcquisitionRetailCleanPrice_diff with 0.523433029471883 ...\n",
      "Filling MMRCurrentAuctionAveragePrice_DepPerYear with 0.00016995622050984416 ...\n",
      "Filling MMRCurrentAuctionCleanPrice_DepPerYear with -0.5140252873989734 ...\n",
      "Filling MMRCurrentRetailAveragePrice_DepPerYear with -0.020022053382521544 ...\n",
      "Filling MMRCurrentRetailCleanPrice_DepPerYear with -0.017619585525653896 ...\n",
      "Filling Trim with Bas ...\n",
      "Filling SubModel with 4D SEDAN ...\n",
      "Filling Transmission with AUTO ...\n",
      "Filling WheelTypeID with 1.0 ...\n",
      "Filling WheelType with Alloy ...\n",
      "Filling Nationality with AMERICAN ...\n",
      "Filling Size with MEDIUM ...\n",
      "Filling TopThreeAmericanName with GM ...\n",
      "Filling PRIMEUNIT with NO ...\n",
      "Filling AUCGUART with GREEN ...\n",
      "Filling MMRAcquisitionAuctionAveragePrice_diff with -0.10784958403826717 ...\n",
      "Filling MMRAcquisitionAuctionCleanPrice_diff with 0.08454346206746355 ...\n",
      "Filling MMRAcquisitionRetailAveragePrice_diff with 0.2574881685832274 ...\n",
      "Filling MMRAcquisitionRetailCleanPrice_diff with 0.468315436176985 ...\n",
      "Filling MMRCurrentAuctionAveragePrice_DepPerYear with 0.002348161023754151 ...\n",
      "Filling MMRCurrentAuctionCleanPrice_DepPerYear with -0.1761549947551282 ...\n",
      "Filling MMRCurrentRetailAveragePrice_DepPerYear with -0.019363104741654463 ...\n",
      "Filling MMRCurrentRetailCleanPrice_DepPerYear with -0.016942347603852 ...\n"
     ]
    }
   ],
   "source": [
    "# find vars with null values\n",
    "# so that we can fill them\n",
    "na_test = train.isnull().any()\n",
    "na_cols = na_test[na_test == True].index\n",
    "\n",
    "def fillna(df, col_list):\n",
    "    for col in col_list:\n",
    "        if df[col].dtype.name == 'category':\n",
    "            # fill with majority\n",
    "            majority = df[col].mode()[0]\n",
    "            print('Filling', col, 'with', majority, '...')\n",
    "            df[col].fillna(value=majority, inplace=True)\n",
    "        else:\n",
    "            # fill with mean\n",
    "            mean = df[col].mean()\n",
    "            print('Filling', col, 'with', mean, '...')\n",
    "            df[col].fillna(value=df[col].mean(), inplace=True)\n",
    "\n",
    "fillna(train, na_cols.tolist())\n",
    "fillna(test, na_cols.tolist())"
   ]
  },
  {
   "cell_type": "code",
   "execution_count": 220,
   "metadata": {},
   "outputs": [],
   "source": [
    "dummy_df = pd.get_dummies(train[cate_cols])\n",
    "dummy_cols = set(dummy_df.columns.tolist())"
   ]
  },
  {
   "cell_type": "code",
   "execution_count": 221,
   "metadata": {},
   "outputs": [],
   "source": [
    "test_dummy_df = pd.get_dummies(test[cate_cols])\n",
    "test_dummy_cols = set(test_dummy_df.columns.tolist())\n",
    "union_dummy_cols = test_dummy_cols & dummy_cols\n",
    "additional_dummy_cols = dummy_cols - test_dummy_cols\n",
    "\n",
    "test = pd.concat([test, test_dummy_df[list(union_dummy_cols)]], axis=1)"
   ]
  },
  {
   "cell_type": "code",
   "execution_count": 222,
   "metadata": {},
   "outputs": [
    {
     "name": "stdout",
     "output_type": "stream",
     "text": [
      "There are 356 dummy columns that did not appear in test data\n",
      "adding columns filled with zero...\n"
     ]
    }
   ],
   "source": [
    "print('There are', len(additional_dummy_cols), 'dummy columns that did not appear in test data')\n",
    "print('adding columns filled with zero...')\n",
    "for col in list(additional_dummy_cols):\n",
    "    test[col] = pd.Series(np.zeros(len(test)))"
   ]
  },
  {
   "cell_type": "code",
   "execution_count": 223,
   "metadata": {},
   "outputs": [],
   "source": [
    "train = pd.concat([train, dummy_df], axis=1)\n",
    "train.drop(cate_cols, axis=1, inplace=True)"
   ]
  },
  {
   "cell_type": "code",
   "execution_count": 142,
   "metadata": {},
   "outputs": [
    {
     "data": {
      "image/png": "[encoded data removed]",
      "text/plain": [
       "<matplotlib.figure.Figure at 0x1174d5710>"
      ]
     },
     "metadata": {},
     "output_type": "display_data"
    }
   ],
   "source": [
    "sns.set(style=\"white\")\n",
    "\n",
    "\n",
    "# Compute the correlation matrix\n",
    "# ONLY for non-categorical variables\n",
    "corr = train[list(noncate_cols)].corr()\n",
    "f, ax = plt.subplots(figsize=(11, 9))\n",
    "\n",
    "cmap = sns.diverging_palette(220, 10, as_cmap=True)\n",
    "\n",
    "sns.heatmap(corr, cmap=cmap, vmax=.3, center=0,\n",
    "            square=True, linewidths=.5, cbar_kws={\"shrink\": .5})\n",
    "\n",
    "plt.show()"
   ]
  },
  {
   "cell_type": "markdown",
   "metadata": {},
   "source": [
    "#### From the correlation matrix above, we can see that \"IsBadBuy\" is highly correlated with \"VehBCost\", \"VehicleAge\", \"VehOdo\" and \"WarrantyCost\". It is also somewhat correlated with \"CurrentAveragePrice_DepPerYear\" and \"CurrentRetailPrice_DepPerYear\". These variables all make a lot of sense for identifying a kick.\n",
    "\n",
    "Note: The above plot does not include categorical turned dummy variables, since there are over 2000 of them."
   ]
  },
  {
   "cell_type": "markdown",
   "metadata": {},
   "source": [
    "# Modeling"
   ]
  },
  {
   "cell_type": "code",
   "execution_count": 130,
   "metadata": {},
   "outputs": [],
   "source": [
    "target = 'IsBadBuy'\n",
    "noncate_cols.remove(target)"
   ]
  },
  {
   "cell_type": "code",
   "execution_count": 57,
   "metadata": {},
   "outputs": [
    {
     "name": "stdout",
     "output_type": "stream",
     "text": [
      "Average validation score is 0.8770124558999403 with 13 features\n",
      "Average validation score is 0.8770124558999403 with 2143 features\n"
     ]
    }
   ],
   "source": [
    "# start with the simpliest model\n",
    "# logistic regression\n",
    "\n",
    "# noncate features\n",
    "model = LogisticRegression()\n",
    "scores = cross_val_score(model, train[noncate_cols], train[target], cv=5)\n",
    "print('Average validation score is', sum(scores)/5, 'with', len(noncate_cols), 'features')\n",
    "\n",
    "# with all features\n",
    "features = train.columns.tolist()\n",
    "features.remove(target)\n",
    "model = LogisticRegression()\n",
    "scores = cross_val_score(model, train[features], train[target], cv=5)\n",
    "print('Average validation score is', sum(scores)/5, 'with', len(features), 'features')"
   ]
  },
  {
   "cell_type": "code",
   "execution_count": 66,
   "metadata": {},
   "outputs": [],
   "source": [
    "# Naive bayes\n",
    "model = GaussianNB()\n",
    "\n",
    "def evaluate(model):\n",
    "    # noncate features\n",
    "    scores = cross_val_score(model, train[noncate_cols], train[target], cv=5)\n",
    "    print('Average validation score is', sum(scores)/5, 'with', len(noncate_cols), 'features')\n",
    "\n",
    "    # all features\n",
    "    features = train.columns.tolist()\n",
    "    features.remove(target)\n",
    "    scores = cross_val_score(model, train[features], train[target], cv=5)\n",
    "    print('Average validation score is', sum(scores)/5, 'with', len(features), 'features')\n",
    "\n",
    "evaluate(model)"
   ]
  },
  {
   "cell_type": "code",
   "execution_count": 143,
   "metadata": {},
   "outputs": [
    {
     "name": "stdout",
     "output_type": "stream",
     "text": [
      "Average validation score is 0.8809174382796817 with 13 features\n",
      "Average validation score is 0.8770124558999403 with 2143 features\n"
     ]
    }
   ],
   "source": [
    "# random forest\n",
    "model = RandomForestClassifier(max_depth=10, n_estimators=100)\n",
    "\n",
    "evaluate(model)"
   ]
  },
  {
   "cell_type": "code",
   "execution_count": 161,
   "metadata": {},
   "outputs": [
    {
     "data": {
      "text/plain": [
       "0.8241270539998036"
      ]
     },
     "execution_count": 161,
     "metadata": {},
     "output_type": "execute_result"
    }
   ],
   "source": [
    "from sklearn import metrics\n",
    "fpr, tpr, thresholds = metrics.roc_curve(train[target].as_matrix(), model.predict_proba(train[noncate_cols])[:,1])\n",
    "metrics.auc(fpr, tpr)"
   ]
  },
  {
   "cell_type": "code",
   "execution_count": 159,
   "metadata": {},
   "outputs": [],
   "source": [
    "# apply best model on test\n",
    "model = RandomForestClassifier(max_depth=10, n_estimators=100)\n",
    "model.fit(train[noncate_cols], train[target])\n",
    "test_predictions = model.predict_proba(test[noncate_cols])[:, 1]"
   ]
  },
  {
   "cell_type": "code",
   "execution_count": 137,
   "metadata": {},
   "outputs": [
    {
     "data": {
      "text/plain": [
       "array([0.06422723, 0.05620953, 0.04792584, ..., 0.10477464, 0.06789559,\n",
       "       0.12172228])"
      ]
     },
     "execution_count": 137,
     "metadata": {},
     "output_type": "execute_result"
    }
   ],
   "source": [
    "test_predictions"
   ]
  },
  {
   "cell_type": "code",
   "execution_count": 138,
   "metadata": {},
   "outputs": [],
   "source": [
    "output_df = pd.DataFrame({'RefId': test['RefId'].as_matrix(), 'IsBadBuy': test_predictions})\n",
    "output_df.to_csv('test_y.csv', index=False)"
   ]
  },
  {
   "cell_type": "code",
   "execution_count": null,
   "metadata": {},
   "outputs": [],
   "source": [
    "# XGBoost\n",
    "dtrain = xgb.DMatrix(data, label=label)\n",
    "param = {'max_depth': 2, 'eta': 1, 'silent': 1, 'objective': 'binary:logistic'}\n",
    "param['nthread'] = 4\n",
    "param['eval_metric'] = 'auc'\n",
    "num_round = 10\n",
    "bst = xgb.train(plst, dtrain, num_round, evallist)"
   ]
  },
  {
   "cell_type": "code",
   "execution_count": 146,
   "metadata": {},
   "outputs": [
    {
     "name": "stdout",
     "output_type": "stream",
     "text": [
      "[0]\ttrain-auc:0.704843\ttest-auc:0.69227\n",
      "[50]\ttrain-auc:0.757785\ttest-auc:0.725813\n",
      "[99]\ttrain-auc:0.782065\ttest-auc:0.735607\n"
     ]
    },
    {
     "data": {
      "text/plain": [
       "<matplotlib.axes._subplots.AxesSubplot at 0x118466b00>"
      ]
     },
     "execution_count": 146,
     "metadata": {},
     "output_type": "execute_result"
    },
    {
     "data": {
      "image/png": "[encoded data removed]",
      "text/plain": [
       "<matplotlib.figure.Figure at 0x1184664e0>"
      ]
     },
     "metadata": {},
     "output_type": "display_data"
    }
   ],
   "source": [
    "dtrain = xgb.DMatrix(train[features].as_matrix(), label=train[target].as_matrix())\n",
    "xgb_params = {\n",
    "    'eta': 0.05,\n",
    "    'max_depth': 5,\n",
    "    'nthread': 4,\n",
    "    'objective': 'binary:logistic',\n",
    "    'eval_metric': 'auc',\n",
    "    'silent': 1\n",
    "}\n",
    "cv_output = xgb.cv(xgb_params, dtrain, num_boost_round=100, early_stopping_rounds=20,\n",
    "    verbose_eval=50, show_stdv=False)\n",
    "cv_output[[\"train-auc-mean\", \"test-auc-mean\"]].plot()"
   ]
  },
  {
   "cell_type": "code",
   "execution_count": 162,
   "metadata": {},
   "outputs": [
    {
     "name": "stdout",
     "output_type": "stream",
     "text": [
      "[0]\ttrain-auc:0.687618\ttest-auc:0.672504\n",
      "[50]\ttrain-auc:0.779405\ttest-auc:0.731865\n",
      "[99]\ttrain-auc:0.805998\ttest-auc:0.739809\n"
     ]
    },
    {
     "data": {
      "text/plain": [
       "<matplotlib.axes._subplots.AxesSubplot at 0x11841a0f0>"
      ]
     },
     "execution_count": 162,
     "metadata": {},
     "output_type": "execute_result"
    },
    {
     "data": {
      "image/png": "[encoded data removed]",
      "text/plain": [
       "<matplotlib.figure.Figure at 0x118387828>"
      ]
     },
     "metadata": {},
     "output_type": "display_data"
    }
   ],
   "source": [
    "dtrain = xgb.DMatrix(train[features].as_matrix(), label=train[target].as_matrix())\n",
    "xgb_params = {\n",
    "    'eta': 0.05,\n",
    "    'max_depth': 6,\n",
    "    'subsample': 0.7,\n",
    "    'colsample_bytree': 0.7,\n",
    "    'nthread': 8,\n",
    "    'objective': 'binary:logistic',\n",
    "    'eval_metric': 'auc',\n",
    "    'silent': 1\n",
    "}\n",
    "cv_output = xgb.cv(xgb_params, dtrain, num_boost_round=100, early_stopping_rounds=20,\n",
    "    verbose_eval=50, show_stdv=False)\n",
    "cv_output[[\"train-auc-mean\", \"test-auc-mean\"]].plot()"
   ]
  },
  {
   "cell_type": "code",
   "execution_count": 181,
   "metadata": {},
   "outputs": [
    {
     "name": "stdout",
     "output_type": "stream",
     "text": [
      "[0]\ttrain-auc:0.681965\n",
      "Will train until train-auc hasn't improved in 20 rounds.\n",
      "[50]\ttrain-auc:0.769285\n",
      "[99]\ttrain-auc:0.790955\n"
     ]
    }
   ],
   "source": [
    "# another set of params with slight tweak\n",
    "dtrain = xgb.DMatrix(train[features].as_matrix(), label=train[target].as_matrix())\n",
    "xgb_params = {\n",
    "    'eta': 0.05,\n",
    "    'max_depth': 6,\n",
    "    'subsample': 0.7,\n",
    "    'colsample_bytree': 0.7,\n",
    "    'nthread': 8,\n",
    "    'objective': 'binary:logistic',\n",
    "    'eval_metric': 'auc',\n",
    "    'silent': 1\n",
    "}\n",
    "best = xgb.train(xgb_params, dtrain, 100, [(dtrain, 'train')], verbose_eval=50, early_stopping_rounds=20)"
   ]
  },
  {
   "cell_type": "code",
   "execution_count": null,
   "metadata": {},
   "outputs": [],
   "source": [
    "# make sure column ordering is consistent\n",
    "test_features = test[features].reindex(columns=train[features].columns.tolist())\n",
    "dtest = xgb.DMatrix(test_features.as_matrix())\n",
    "test_predictions = best.predict(dtest, ntree_limit=best.best_ntree_limit)\n",
    "\n",
    "test = pd.read_csv('test.csv')\n",
    "output_df = pd.DataFrame({'RefId': test['RefId'].as_matrix(), 'IsBadBuy': test_predictions})\n",
    "output_df.to_csv('test_y_xgb.csv', index=False)"
   ]
  },
  {
   "cell_type": "markdown",
   "metadata": {},
   "source": [
    "# Interpret our best model"
   ]
  },
  {
   "cell_type": "code",
   "execution_count": 208,
   "metadata": {},
   "outputs": [
    {
     "data": {
      "text/plain": [
       "<matplotlib.axes._subplots.AxesSubplot at 0x117835c18>"
      ]
     },
     "execution_count": 208,
     "metadata": {},
     "output_type": "execute_result"
    },
    {
     "data": {
      "image/png": "[encoded data removed]",
      "text/plain": [
       "<matplotlib.figure.Figure at 0x1178201d0>"
      ]
     },
     "metadata": {},
     "output_type": "display_data"
    }
   ],
   "source": [
    "xgb.plot_importance(best, max_num_features=10)"
   ]
  },
  {
   "cell_type": "code",
   "execution_count": 236,
   "metadata": {},
   "outputs": [
    {
     "data": {
      "text/plain": [
       "[('MMRCurrentAuctionAveragePrice_DepPerYear', 443),\n",
       " ('VehBCost', 441),\n",
       " ('MMRCurrentAuctionCleanPrice_DepPerYear', 403),\n",
       " ('VehOdo', 378),\n",
       " ('MMRCurrentRetailAveragePrice_DepPerYear', 345),\n",
       " ('MMRCurrentRetailCleanPrice_DepPerYear', 304),\n",
       " ('MMRAcquisitionAuctionAveragePrice_diff', 291),\n",
       " ('MMRAcquisitionRetailAveragePrice_diff', 272),\n",
       " ('MMRAcquisitionRetailCleanPrice_diff', 270),\n",
       " ('MMRAcquisitionAuctionCleanPrice_diff', 234)]"
      ]
     },
     "execution_count": 236,
     "metadata": {},
     "output_type": "execute_result"
    }
   ],
   "source": [
    "# feature mapping\n",
    "feature_dict = {a: b for a, b in zip(dtrain.feature_names, features)}\n",
    "[(feature_dict[feature], score) for feature, score in \\\n",
    "     sorted(list(best.get_fscore().items()),key=lambda x: x[1])[-10:][::-1]]"
   ]
  },
  {
   "cell_type": "markdown",
   "metadata": {},
   "source": [
    "# Future Work\n",
    "\n",
    "- Overlay income and consumer price data using zipcode to get a better idea of pricing\n",
    "- Perform grid Search for Logistic, Naive Bayes and Random Forest, default parameter is unlikely to be the best\n",
    "- XGBoost proves to be powerful here (even without much parameter tuning). The current best model overfits. I'd like to tune parameters in that direction.\n",
    "- Stratify training data, given only around 10% was a bad buy\n",
    "- dig deeper into Current Prices and Acquisition Prices. Currently, current prices are turned into a depreciation per year. Is this the best way to use these prices? They are also probably correlated.\n",
    "- there are over 2000 columns after we convert categories into dummies. it's too sparse, meaning we would want to drop some of the less frequent columns to prevent overfitting in our model."
   ]
  },
  {
   "cell_type": "code",
   "execution_count": null,
   "metadata": {},
   "outputs": [],
   "source": []
  },
  {
   "cell_type": "code",
   "execution_count": null,
   "metadata": {},
   "outputs": [],
   "source": []
  }
 ],
 "metadata": {
  "kernelspec": {
   "display_name": "Python 3",
   "language": "python",
   "name": "python3"
  },
  "language_info": {
   "codemirror_mode": {
    "name": "ipython",
    "version": 3
   },
   "file_extension": ".py",
   "mimetype": "text/x-python",
   "name": "python",
   "nbconvert_exporter": "python",
   "pygments_lexer": "ipython3",
   "version": "3.6.3"
  }
 },
 "nbformat": 4,
 "nbformat_minor": 2
}
